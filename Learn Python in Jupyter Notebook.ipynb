{
 "cells": [
  {
   "cell_type": "markdown",
   "metadata": {},
   "source": [
    "<h1 align=\"left\"><font size= 6, color=purple>Learning Python in Jupyter Notebook</font></h1>"
   ]
  },
  {
   "cell_type": "code",
   "execution_count": 1,
   "metadata": {},
   "outputs": [
    {
     "data": {
      "text/plain": [
       "12"
      ]
     },
     "execution_count": 1,
     "metadata": {},
     "output_type": "execute_result"
    }
   ],
   "source": [
    "# This is a Jupyter notebook used for Python. It consists of cells.\n",
    "# In order to execute the current cell, press Ctrl + Enter\n",
    "# In order to execute the current cell and switch to the next new cell, press Shift + Enter\n",
    "12"
   ]
  },
  {
   "cell_type": "markdown",
   "metadata": {},
   "source": [
    "<font size=3, color=purple><b>Arithmetic Operations</b></font><br/>\n"
   ]
  },
  {
   "cell_type": "code",
   "execution_count": 2,
   "metadata": {},
   "outputs": [
    {
     "data": {
      "text/plain": [
       "16"
      ]
     },
     "execution_count": 2,
     "metadata": {},
     "output_type": "execute_result"
    }
   ],
   "source": [
    "45-29 # Operation like a calculator"
   ]
  },
  {
   "cell_type": "markdown",
   "metadata": {},
   "source": [
    "<div class=\"alert alert-info\">\n",
    "<li>Variables are used to store values. Here, ***a,b,c,d,e,f,g*** are the variables used to store arithmetic operations. <li>**print()** is used to display the output. \n",
    "</div>\n"
   ]
  },
  {
   "cell_type": "code",
   "execution_count": 4,
   "metadata": {},
   "outputs": [
    {
     "name": "stdout",
     "output_type": "stream",
     "text": [
      "Addition 11+5 :  16\n",
      "Subtraction 11-5 :  6\n",
      "Multiplication 11*5 :  55\n",
      "Division 11/5 :  2.2\n",
      "Division (// returns quotient) 11//5 :  2\n",
      "Division (% returns remainder) 11%5 :  1\n",
      "Exponent 11**5 :  161051\n"
     ]
    }
   ],
   "source": [
    "a=11+5 # addition\n",
    "b=11-5 # subtraction\n",
    "c=11*5 # multiplication\n",
    "d=11/5 # division\n",
    "e=11//5 # returns quotient as result\n",
    "f=11%5 # (modulus) returns remainder as result \n",
    "g=11**5 # exponents\n",
    "print(\"Addition 11+5 : \",a) \n",
    "print(\"Subtraction 11-5 : \",b)\n",
    "print(\"Multiplication 11*5 : \",c)\n",
    "print(\"Division 11/5 : \",d)\n",
    "print(\"Division (// returns quotient) 11//5 : \",e)\n",
    "print(\"Division (% returns remainder) 11%5 : \",f)\n",
    "print(\"Exponent 11**5 : \",g)"
   ]
  },
  {
   "cell_type": "markdown",
   "metadata": {},
   "source": [
    "<div class=\"alert alert-info\"><li>Remember, the arithmetic operations always follow the **PEDMAS** rule. Consider the two examples below:</div>"
   ]
  },
  {
   "cell_type": "code",
   "execution_count": 5,
   "metadata": {},
   "outputs": [
    {
     "name": "stdout",
     "output_type": "stream",
     "text": [
      "Result of 5+2*7-8/2**2+1 is :  18.0\n"
     ]
    }
   ],
   "source": [
    "print(\"Result of 5+2*7-8/2**2+1 is : \", 5+2*7-8/2**2+1)"
   ]
  },
  {
   "cell_type": "code",
   "execution_count": 6,
   "metadata": {},
   "outputs": [
    {
     "name": "stdout",
     "output_type": "stream",
     "text": [
      "Result of (5+2)*7-(8/2**2)+1 is :  48.0\n"
     ]
    }
   ],
   "source": [
    "print(\"Result of (5+2)*7-(8/2**2)+1 is : \",(5+2)*7-(8/2**2)+1)"
   ]
  },
  {
   "cell_type": "markdown",
   "metadata": {},
   "source": [
    "<div class=\"alert alert-info\"><li>Operations upon variables.<li>Variable name should not start with digit.</div>"
   ]
  },
  {
   "cell_type": "code",
   "execution_count": 7,
   "metadata": {},
   "outputs": [
    {
     "data": {
      "text/plain": [
       "9"
      ]
     },
     "execution_count": 7,
     "metadata": {},
     "output_type": "execute_result"
    }
   ],
   "source": [
    "x=4\n",
    "y=5\n",
    "x+y"
   ]
  },
  {
   "cell_type": "markdown",
   "metadata": {},
   "source": [
    "<font size=3, color=purple><b>Boolean Operations</b></font><br/>\n",
    "<div class=\"alert alert-info\"><li>Boolean expressions</div>"
   ]
  },
  {
   "cell_type": "code",
   "execution_count": 9,
   "metadata": {},
   "outputs": [
    {
     "name": "stdout",
     "output_type": "stream",
     "text": [
      "11 is greater than 5:  True\n",
      "11 is less than 5:  False\n",
      "11 is equal to 5:  False\n",
      "11 is 5:  False\n",
      "11 is not equal to 5:  True\n",
      "11 is not 5:  True\n",
      "11 is lesser than or equal to  5:  False\n",
      "11 is greater than or equal to 5:  True\n"
     ]
    }
   ],
   "source": [
    "print(\"11 is greater than 5: \",11>5) # greater than\n",
    "print(\"11 is less than 5: \",11<5) # less than\n",
    "print(\"11 is equal to 5: \",11==5) # equal to\n",
    "print(\"11 is 5: \",11 is 5) # is statement is equivalent to ==\n",
    "print(\"11 is not equal to 5: \",11!=5) # not equal to\n",
    "print(\"11 is not 5: \",11 is not 5) # is not statement is equivalent to !=\n",
    "print(\"11 is lesser than or equal to  5: \",11<=5) # less than equal to\n",
    "print(\"11 is greater than or equal to 5: \",11>=5) # greater than equal to"
   ]
  },
  {
   "cell_type": "markdown",
   "metadata": {},
   "source": [
    "<div class=\"alert alert-info\"><li>Boolean operators (*AND*, *OR*, *NOT*)</div>"
   ]
  },
  {
   "cell_type": "code",
   "execution_count": 12,
   "metadata": {},
   "outputs": [
    {
     "name": "stdout",
     "output_type": "stream",
     "text": [
      "11>5 or 11<5:  True\n",
      "11>5 and 11<5:  False\n",
      "False or True:  True\n",
      "False and True:  False\n",
      "not(True):  False\n",
      "not(False):  True\n"
     ]
    }
   ],
   "source": [
    "# AND: Returns true only if both conditions are true \n",
    "# OR: Returns true if either one of both the conditions is true \n",
    "# NOT: reverses the result\n",
    "\n",
    "print(\"11>5 or 11<5: \",11>5 or 11<5)\n",
    "print(\"11>5 and 11<5: \",11>5 and 11<5)\n",
    "print(\"False or True: \",False or True)\n",
    "print(\"False and True: \",False and True)\n",
    "print(\"not(True): \",not(True))\n",
    "print(\"not(False): \",not(False))"
   ]
  },
  {
   "cell_type": "markdown",
   "metadata": {},
   "source": [
    "<font size=3, color=purple><b>Strings</b></font><br/>\n",
    "<div class=\"alert alert-info\"><li>Strings can be specified using both single or double quotes. <li>Strings are immutable.</div>"
   ]
  },
  {
   "cell_type": "code",
   "execution_count": 71,
   "metadata": {},
   "outputs": [
    {
     "name": "stdout",
     "output_type": "stream",
     "text": [
      "x: Orange\n",
      "y: Yellow\n",
      "\n",
      "x==y: False\n",
      "x is y: False\n",
      "x!=y: True\n",
      "x<y: True\n",
      "x>y False\n",
      "1=='1': False\n"
     ]
    }
   ],
   "source": [
    "x=\"Orange\" # using double quotes\n",
    "y='Yellow' # using single quotes\n",
    "print(\"x:\",x)\n",
    "print(\"y:\",y)\n",
    "print(\"\\nx==y:\",x==y) # equal to\n",
    "print(\"x is y:\",x is y) # is statement is equivalent to ==\n",
    "print(\"x!=y:\",x!=y) # not equal to\n",
    "print(\"x<y:\",x<y) # less than, returns true as 'o' comes before 'y'\n",
    "print(\"x>y\",x>y) # greater than, returns false as 'o' comes before 'y'\n",
    "print(\"1=='1':\",1=='1') # 1 is an integer while '1' is a string"
   ]
  },
  {
   "cell_type": "markdown",
   "metadata": {},
   "source": [
    "<div class=\"alert alert-info\"><li>**len()** is used to determine the length of specified variable, string, list, etc. <li>Spaces are also counted.</div>\n"
   ]
  },
  {
   "cell_type": "code",
   "execution_count": 26,
   "metadata": {},
   "outputs": [
    {
     "name": "stdout",
     "output_type": "stream",
     "text": [
      "s: This is a sample text.\n",
      "\n",
      "Length of the string 's' is: 22\n"
     ]
    }
   ],
   "source": [
    "s=\"This is a sample text.\" # special characters and white spaces are also counted\n",
    "print(\"s:\",s)\n",
    "print(\"\\nLength of the string 's' is:\",len(s))"
   ]
  },
  {
   "cell_type": "markdown",
   "metadata": {},
   "source": [
    "<div class=\"alert alert-info\"><li>**in** operator is used to check whether a substring is present in the main string</div>"
   ]
  },
  {
   "cell_type": "code",
   "execution_count": 27,
   "metadata": {},
   "outputs": [
    {
     "name": "stdout",
     "output_type": "stream",
     "text": [
      "a: This is a sample string\n",
      "\n",
      "'sample' in a: True\n",
      "'test' in a: False\n",
      "'sample' not in a: False\n"
     ]
    }
   ],
   "source": [
    "a=\"This is a sample string\"\n",
    "print(\"a:\",a)\n",
    "print(\"\\n'sample' in a:\",'sample' in a) \n",
    "print(\"'test' in a:\",'test' in a) \n",
    "print(\"'sample' not in a:\",'sample' not in a) # not in means not a substring"
   ]
  },
  {
   "cell_type": "code",
   "execution_count": 72,
   "metadata": {},
   "outputs": [
    {
     "name": "stdout",
     "output_type": "stream",
     "text": [
      "s: Some text\n",
      "Length: 9\n",
      "\n",
      "First character: S\n",
      "Character at index position 7: x\n",
      "Last character: t\n",
      "Last character using negative indexing: t\n",
      "Character at index position 4 from the end: t\n",
      "First character: S\n"
     ]
    }
   ],
   "source": [
    "s=\"Some text\"\n",
    "print(\"s:\",s)\n",
    "length=len(s)\n",
    "print(\"Length:\",length)\n",
    "print(\"\\nFirst character:\",s[0]) # first character\n",
    "print(\"Character at index position 7:\",s[7]) # fetches the character at index position 7 in the string\n",
    "print(\"Last character:\",s[length-1]) # last character\n",
    "\n",
    "# Negative indexing is also possible. \n",
    "print(\"Last character using negative indexing:\",s[-1]) # fetches last element\n",
    "print(\"Character at index position 4 from the end:\",s[-4]) # fetches 4th element from the end (equivalent to index position 7 from the beginning)\n",
    "print(\"First character:\",s[-(length)]) # fetches first element (equivalent to s[0])"
   ]
  },
  {
   "cell_type": "markdown",
   "metadata": {},
   "source": [
    "<div class=\"alert alert-info\"><li>Multiple variables of different datatypes can also be assigned together. <li>The **type()** defines the class of the object.</div>"
   ]
  },
  {
   "cell_type": "code",
   "execution_count": 73,
   "metadata": {},
   "outputs": [
    {
     "name": "stdout",
     "output_type": "stream",
     "text": [
      "a: 1\n",
      "b: Hello\n",
      "c: Hi\n",
      "d: 4.5\n",
      "\n",
      "Class of a: <class 'int'>\n",
      "Class of b: <class 'str'>\n",
      "Class of c: <class 'str'>\n",
      "Class of d: <class 'float'>\n"
     ]
    }
   ],
   "source": [
    "a,b,c,d=1,'Hello',\"Hi\",4.5\n",
    "print(\"a:\",a)\n",
    "print(\"b:\",b)\n",
    "print(\"c:\",c)\n",
    "print(\"d:\",d)\n",
    "print(\"\\nClass of a:\",type(a)) \n",
    "print(\"Class of b:\",type(b))\n",
    "print(\"Class of c:\",type(c))\n",
    "print(\"Class of d:\",type(d))"
   ]
  },
  {
   "cell_type": "markdown",
   "metadata": {},
   "source": [
    "<div class=\"alert alert-info\"><li>Escape sequences are specified using **backslash (\\\\)**.\n",
    "<li>**\\n** is used as a wildcard in order to print a new blank line.</div>"
   ]
  },
  {
   "cell_type": "code",
   "execution_count": 14,
   "metadata": {},
   "outputs": [
    {
     "name": "stdout",
     "output_type": "stream",
     "text": [
      "Text 1\n",
      "Text 2\n",
      "Text 1\\nText 2\n",
      "Text 1\\nText 2\n",
      "Text 1\tText 2\n"
     ]
    }
   ],
   "source": [
    "print(\"Text 1\\nText 2\") # two separate lines are printed\n",
    "print(\"Text 1\\\\nText 2\") # In order to print \\n as text, we insert a backslash as an escape sequence.\n",
    "print(r\"Text 1\\nText 2\") # Letter 'r' can also be placed before the string as an alternative to escape sequence (works similar to above)\n",
    "print(\"Text 1\\tText 2\") # \\t represents a tab"
   ]
  },
  {
   "cell_type": "markdown",
   "metadata": {},
   "source": [
    "<div class=\"alert alert-info\"><li>**Three quotes** (single or double) are used to define a **paragraph**, example:</div>"
   ]
  },
  {
   "cell_type": "code",
   "execution_count": 46,
   "metadata": {},
   "outputs": [
    {
     "name": "stdout",
     "output_type": "stream",
     "text": [
      "This is a test paragraph using double quotes.\n",
      "This is another line.\n",
      "\n",
      "This is a second paragraph using single quotes.\n",
      "Multiple lines can be used\n",
      "\n",
      "This is a third paragraph. Multiple lines can be used. If we use \\ in the end of line, it continues to remain in the same line.\n",
      "\n",
      "Class of paragraph: <class 'str'>\n",
      "Length of paragraph: 68\n"
     ]
    }
   ],
   "source": [
    "paragraph= \"\"\"This is a test paragraph using double quotes.\n",
    "This is another line.\\n\"\"\"\n",
    "print(paragraph)\n",
    "\n",
    "second_paragraph='''This is a second paragraph using single quotes.\n",
    "Multiple lines can be used\\n'''\n",
    "print(second_paragraph)\n",
    "\n",
    "third_paragraph='''This is a third paragraph. \\\n",
    "Multiple lines can be used. \\\n",
    "If we use \\ in the end of line, it continues to remain in the same line.\\n'''\n",
    "print(third_paragraph)\n",
    "\n",
    "print(\"Class of paragraph:\",type(paragraph)) # paragraph is used mostly for documentation. It is of String datatype.\n",
    "print(\"Length of paragraph:\",len(paragraph))"
   ]
  },
  {
   "cell_type": "markdown",
   "metadata": {},
   "source": [
    "<div class=\"alert alert-info\"><li>**Multiplication** of strings</div>"
   ]
  },
  {
   "cell_type": "code",
   "execution_count": 16,
   "metadata": {},
   "outputs": [
    {
     "name": "stdout",
     "output_type": "stream",
     "text": [
      "Hey! Hey! Hey! \n"
     ]
    }
   ],
   "source": [
    "s1='Hey! '\n",
    "print(s1*3) # 3 copies of string s1"
   ]
  },
  {
   "cell_type": "markdown",
   "metadata": {},
   "source": [
    "<div class=\"alert alert-info\"><li>Strings can be **concatenated** using the **+** sign.</div>"
   ]
  },
  {
   "cell_type": "code",
   "execution_count": 17,
   "metadata": {},
   "outputs": [
    {
     "data": {
      "text/plain": [
       "'This is a concatenated string.'"
      ]
     },
     "execution_count": 17,
     "metadata": {},
     "output_type": "execute_result"
    }
   ],
   "source": [
    "\"This is a \"+'concatenated string.'"
   ]
  },
  {
   "cell_type": "markdown",
   "metadata": {},
   "source": [
    "<div class=\"alert alert-info\"><li>**Functions** on String<div>"
   ]
  },
  {
   "cell_type": "code",
   "execution_count": 69,
   "metadata": {},
   "outputs": [
    {
     "name": "stdout",
     "output_type": "stream",
     "text": [
      "s: This is a sample string\n",
      "\n",
      "s.upper(): THIS IS A SAMPLE STRING\n",
      "s.lower(): this is a sample string\n",
      "s.replace(\" \",\"_\"): This_is_a_sample_string\n",
      "s.count('s'): 4\n",
      "s.title(): This Is A Sample String\n",
      "s.split(): ['This', 'is', 'a', 'sample', 'string']\n",
      "s.split('s'): ['Thi', ' i', ' a ', 'ample ', 'tring']\n",
      "s.find('amp'): 11\n",
      "s.index('amp'): 11\n",
      "s[1:12]: his is a sa\n",
      "s[1:12:2]: hsi  a\n",
      "s[::-1]: gnirts elpmas a si sihT\n",
      "s.startswith('This'): True\n",
      "s.endswith('This'): False\n",
      "s.replace('sample','test'): This is a test string\n",
      "\n",
      "a:    String with spaces       has length: 28\n",
      "a.lstrip(): String with spaces       has length: 24\n",
      "a.rstrip():     String with spaces has length: 22\n",
      "a.strip(): String with spaces has length: 18\n",
      "\n",
      "b: 00543\n",
      "b.lstrip('0'): 543\n"
     ]
    }
   ],
   "source": [
    "s=\"This is a sample string\"\n",
    "print(\"s:\",s)\n",
    "print(\"\\ns.upper():\",s.upper()) # converts string into upper case\n",
    "print(\"s.lower():\",s.lower()) # converts string into lower case\n",
    "print('s.replace(\" \",\"_\"):',s.replace(\" \",\"_\")) # replaces blank space with underscvore\n",
    "print(\"s.count('s'):\",s.count('s')) # counts the string 's' in the main string\n",
    "print(\"s.title():\",s.title()) # returns the string with first capital letter of each word\n",
    "print(\"s.split():\",s.split()) # splits the string (on blank spaces)\n",
    "print(\"s.split('s'):\",s.split('s')) # splits the string (on string 's')\n",
    "print(\"s.find('amp'):\",s.find('amp')) # finds the position of specified string\n",
    "print(\"s.index('amp'):\",s.index('amp')) # returns the index of specified string\n",
    "print(\"s[1:12]:\",s[1:12]) # extracts substring from index position 1 to index position 11\n",
    "print(\"s[1:12:2]:\",s[1:12:2]) # extracts substring from index position 1 to index position 11 while skipping two places\n",
    "print(\"s[::-1]:\",s[::-1]) # reverses the string\n",
    "print(\"s.startswith('This'):\",s.startswith('This')) # checks the start of the string\n",
    "print(\"s.endswith('This'):\",s.endswith('This')) # checks the end of the string\n",
    "print(\"s.replace('sample','test'):\",s.replace('sample','test'))\n",
    "\n",
    "a=\"    String with spaces      \"\n",
    "print(\"\\na:\"+a+\" has length:\",len(a))\n",
    "print(\"a.lstrip(): \"+a.lstrip()+\" has length:\",len(a.lstrip())) # lstrip removes the white spaces from the left side\n",
    "print(\"a.rstrip(): \"+a.rstrip()+\" has length:\",len(a.rstrip())) # rstrip removes the white spaces from the right side\n",
    "print(\"a.strip(): \"+a.strip()+\" has length:\",len(a.strip())) # strip() removes the white spaces from the left and right end\n",
    "b=\"00543\"\n",
    "print(\"\\nb:\",b)\n",
    "print(\"b.lstrip('0'):\",b.lstrip('0'))"
   ]
  },
  {
   "cell_type": "markdown",
   "metadata": {},
   "source": [
    "<div class=\"alert alert-info\"><b>String Substitution</b>\n",
    "<li>Variables can be printed within a string using format function as follows:</div>"
   ]
  },
  {
   "cell_type": "code",
   "execution_count": 84,
   "metadata": {},
   "outputs": [
    {
     "name": "stdout",
     "output_type": "stream",
     "text": [
      "I want two colors\n",
      "I want three colors\n",
      "\n",
      "My 2 favourite colors are blue and pink\n",
      "My 2 favourite colors are blue and pink\n",
      "\n",
      "String substitution is possible using arguments. Text_1 Text_2 Text_3 and so on....\n",
      "My text has string: Hello.!\n",
      "My text has string containing % sign and: Hello.!\n",
      "My text has number: 42\n",
      "My text has number with 0 decimal places: 42\n",
      "My text has number with 4 decimal places: 42.4000\n"
     ]
    }
   ],
   "source": [
    "s= \"I want {} colors\".format(\"two\") # {} are used for substituting text\n",
    "print(s)\n",
    "print(\"I want {n} colors\".format(n=\"three\"))\n",
    "\n",
    "color1='blue'\n",
    "color2='pink'\n",
    "number=2\n",
    "print('\\nMy {} favourite colors are {} and {}'.format(number,color1,color2))\n",
    "print('My {a} favourite colors are {b} and {c}'.format(a=number,b=color1,c=color2))\n",
    "\n",
    "print(\"\\nString substitution is possible using arguments. {0} {1} {2} and so on....\".format(\"Text_1\",\"Text_2\",\"Text_3\"))\n",
    "print(\"My text has string: %s\" %(\"Hello.!\"))\n",
    "print(\"My text has string containing %% sign and: %s\" %(\"Hello.!\")) # % sign acts as an escape sequence \n",
    "print(\"My text has number: %d\" %(42.4))\n",
    "print(\"My text has number with 0 decimal places: %.0f\" %(42.4))\n",
    "print(\"My text has number with 4 decimal places: %.4f\" %(42.4))"
   ]
  },
  {
   "cell_type": "markdown",
   "metadata": {},
   "source": [
    "<font size=3, color=purple><b>Lists</b></font><br/>\n",
    "<div class=\"alert alert-info\"><li>A List is created using square brackets []. <li>Lists are mutable</div>"
   ]
  },
  {
   "cell_type": "code",
   "execution_count": 20,
   "metadata": {},
   "outputs": [
    {
     "data": {
      "text/plain": [
       "[]"
      ]
     },
     "execution_count": 20,
     "metadata": {},
     "output_type": "execute_result"
    }
   ],
   "source": [
    "[] #This is an empty List"
   ]
  },
  {
   "cell_type": "markdown",
   "metadata": {},
   "source": [
    " <div class=\"alert alert-info\"><li>A list can have multiple elements of same or different data type.</div>"
   ]
  },
  {
   "cell_type": "code",
   "execution_count": 98,
   "metadata": {},
   "outputs": [
    {
     "name": "stdout",
     "output_type": "stream",
     "text": [
      "a: [12, 'abc', 8.95, 'xyz', [2, 6]]\n",
      "b: [4, 7, 2, 4]\n",
      "c: [12, 'abc', 8.95, 'xyz', [2, 6], 4, 7, 2, 4]\n",
      "\n",
      "Length of c: 9\n",
      "'abc' in a: True\n",
      "35 in b: False\n",
      "12 not in a: False\n",
      "2*b: [4, 7, 2, 4, 4, 7, 2, 4]\n",
      "min(b): 2\n",
      "max(b): 7\n",
      "sum(b): 17\n"
     ]
    }
   ],
   "source": [
    "a= [12, 'abc', 8.95, \"xyz\",[2,6]]\n",
    "print(\"a:\",a)\n",
    "b= [4,7,2,4]\n",
    "print(\"b:\",b)\n",
    "c=a+b # concatenation\n",
    "print(\"c:\",c)\n",
    "\n",
    "print(\"\\nLength of c:\",len(c))\n",
    "print(\"'abc' in a:\",'abc' in a)\n",
    "print(\"35 in b:\",35 in b)\n",
    "print(\"12 not in a:\",12 not in a)\n",
    "print(\"2*b:\",2*b) # 2 copies of list b\n",
    "print(\"min(b):\",min(b)) # minimum in list (list must not have strings)\n",
    "print(\"max(b):\",max(b)) # maximum in list (list must not have strings)\n",
    "print(\"sum(b):\",sum(b)) # sum of list elements (list must not have strings)"
   ]
  },
  {
   "cell_type": "code",
   "execution_count": 22,
   "metadata": {},
   "outputs": [
    {
     "name": "stdout",
     "output_type": "stream",
     "text": [
      "Original List: [1, 2, 3, 4, 5]\n",
      "List after append(): [1, 2, 3, 4, 5, 6]\n",
      "List after extend(): [1, 2, 3, 4, 5, 6, 7, 8, 9]\n",
      "List after pop(): [1, 2, 3, 4, 5, 6, 7, 8]\n"
     ]
    }
   ],
   "source": [
    "a=[1,2,3,4,5]\n",
    "print(\"Original List: {}\" .format(a))\n",
    "\n",
    "# Append method is used to add new elements in the pre-exisiting list.\n",
    "a.append(6)\n",
    "print(\"List after append(): {}\" .format(a))\n",
    "\n",
    "# extend method is used to extend the list\n",
    "a.extend([7,8,9])\n",
    "print(\"List after extend(): {}\" .format(a))\n",
    "\n",
    "# Pop method is used to remove the last element from the list.\n",
    "a.pop()\n",
    "print(\"List after pop(): {}\" .format(a))"
   ]
  },
  {
   "cell_type": "code",
   "execution_count": 117,
   "metadata": {},
   "outputs": [
    {
     "name": "stdout",
     "output_type": "stream",
     "text": [
      "a: [1, 2, 3, 4, 5]\n",
      "\n",
      "Length of a (L): 5\n",
      "a[2]: 3\n",
      "a[0]: 1\n",
      "a[L-1]: 5\n",
      "\n",
      "List after setting new value: [1, 2, 6, 4, 5]\n",
      "List after pop(2): [1, 2, 4, 5]\n",
      "Final List: [2, 4, 5]\n"
     ]
    }
   ],
   "source": [
    "# A specific element can be referred from a list. For instance:  \n",
    "a=[1,2,3,4,5]\n",
    "print(\"a:\",a)\n",
    "L=(len(a)) \n",
    "print(\"\\nLength of a (L): {}\" .format(L))# The length of the list. Indexing starts from zero.\n",
    "print(\"a[2]:\",a[2]) # Third element\n",
    "print(\"a[0]:\",a[0]) # First element\n",
    "print(\"a[L-1]:\",a[L-1]) # Last element\n",
    "\n",
    "# Setting a value in list (mutable)\n",
    "# For example, set a value of 6 at index position 2\n",
    "a[2]=6 # 3 is changed to 6\n",
    "print(\"\\nList after setting new value: {}\" .format(a))\n",
    "\n",
    "# A specific element can be removed from a list using its index position in the pop function.\n",
    "# For example, remove element 6\n",
    "a.pop(2) # a.pop(index)\n",
    "print(\"List after pop(2): {}\" .format(a))\n",
    "\n",
    "# An element can be deleted from a list using del function by specifying its index position\n",
    "del(a[0])\n",
    "print(\"Final List: {}\" .format(a))"
   ]
  },
  {
   "cell_type": "code",
   "execution_count": 122,
   "metadata": {},
   "outputs": [
    {
     "name": "stdout",
     "output_type": "stream",
     "text": [
      "a: ['Ravi', 'Rahul', 'Rohan']\n",
      "\n",
      "a[2][2]: h\n",
      "a[1][3]: u\n",
      "a[0][2]: v\n",
      "\n",
      "b: [12, 'abc', ['Text', 5.34, 23, True], 'xyz', [2, 6]]\n",
      "\n",
      "b[1]: abc\n",
      "b[2]: ['Text', 5.34, 23, True]\n",
      "b[2][1]: 5.34\n",
      "b[2][0][3]: t\n"
     ]
    }
   ],
   "source": [
    "a=[\"Ravi\",\"Rahul\",\"Rohan\"]\n",
    "print(\"a:\",a)\n",
    "print(\"\\na[2][2]:\",a[2][2]) # Third element, Third character\n",
    "print(\"a[1][3]:\",a[1][3]) # Second element, Fourth character\n",
    "print(\"a[0][2]:\",a[0][2]) # First element, Third character\n",
    "\n",
    "# nesting\n",
    "b= [12, 'abc', [\"Text\",5.34,23,True], \"xyz\",[2,6]] \n",
    "print(\"\\nb:\",b)\n",
    "print(\"\\nb[1]:\",b[1])\n",
    "print(\"b[2]:\",b[2])\n",
    "print(\"b[2][1]:\",b[2][1])\n",
    "print(\"b[2][0][3]:\",b[2][0][3])"
   ]
  },
  {
   "cell_type": "code",
   "execution_count": 124,
   "metadata": {},
   "outputs": [
    {
     "name": "stdout",
     "output_type": "stream",
     "text": [
      "a: [1, 5, 8, 2, 5, 2]\n",
      "Class of a: <class 'list'>\n",
      "After a.reverse(), a: [2, 5, 2, 8, 5, 1]\n"
     ]
    }
   ],
   "source": [
    "a=[1,5,8,2,5,2]\n",
    "\n",
    "print(\"a:\",a)\n",
    "print(\"Class of a:\",type(a))\n",
    "a.reverse() # reverses the list\n",
    "print(\"After a.reverse(), a:\",a)"
   ]
  },
  {
   "cell_type": "code",
   "execution_count": 127,
   "metadata": {},
   "outputs": [
    {
     "name": "stdout",
     "output_type": "stream",
     "text": [
      "a: [1, 5, 8, 2, 5, 2]\n",
      "a.count(5): 2\n",
      "a.index(5): 1\n",
      "List after removing 5:  [1, 8, 2, 5, 2]\n",
      "List after sorting:  [1, 2, 2, 5, 8]\n"
     ]
    }
   ],
   "source": [
    "a=[1,5,8,2,5,2]\n",
    "print(\"a:\",a)\n",
    "print(\"a.count(5):\",a.count(5)) # returns the number of occurences of element 5\n",
    "print(\"a.index(5):\",a.index(5)) # returns the first index position of element 5\n",
    "a.remove(5) # removes the first occurence of element 5\n",
    "print(\"List after removing 5: \",a)\n",
    "a.sort() # sorts the list in ascending order\n",
    "print(\"List after sorting: \",a)"
   ]
  },
  {
   "cell_type": "code",
   "execution_count": 132,
   "metadata": {},
   "outputs": [
    {
     "name": "stdout",
     "output_type": "stream",
     "text": [
      "a: [1, 5, 8, 2, 5, 2]\n",
      "\n",
      "a[3:5]: [2, 5]\n",
      "a[1:]: [5, 8, 2, 5, 2]\n",
      "a[:3]: [1, 5, 8]\n",
      "\n",
      "List A is [1, 5, 8, 2, 5, 2] and List B is [1, 5, 8, 2, 5, 2]\n",
      "After changing a[2]=5,\n",
      "List A is [1, 5, 5, 2, 5, 2] and List B is [1, 5, 5, 2, 5, 2]\n",
      "\n",
      "List A is [1, 5, 5, 2, 5, 2] and List C is [1, 5, 5, 2, 5, 2]\n",
      "After changing a[2]=3,\n",
      "List A is [1, 5, 3, 2, 5, 2] and List C is [1, 5, 5, 2, 5, 2]\n"
     ]
    }
   ],
   "source": [
    "a=[1,5,8,2,5,2]\n",
    "print(\"a:\",a)\n",
    "print(\"\\na[3:5]:\",a[3:5]) # fetches elements from index position 3 to index position 4\n",
    "print(\"a[1:]:\",a[1:]) # fetches elements from index position 1 till end\n",
    "print(\"a[:3]:\",a[:3]) # fetches elements from starting till index position 2\n",
    "\n",
    "b=a # list B is referencing to list A\n",
    "print(\"\\nList A is {x} and List B is {y}\".format(x=a,y=b))\n",
    "a[2]=5 # change in List A\n",
    "print(\"After changing a[2]=5,\\nList A is {x} and List B is {y}\".format(x=a,y=b)) # notice that list B also changes at the same position since both are referencing to the same list in memory.\n",
    "\n",
    "c=a[:] # List C is created by cloning list A, a new list is created and not referenced\n",
    "print(\"\\nList A is {x} and List C is {z}\".format(x=a,z=c))\n",
    "a[2]=3\n",
    "print(\"After changing a[2]=3,\\nList A is {x} and List C is {z}\".format(x=a,z=c))\n",
    "# notice that list C doesn't changes because both are the different lists and they are not referencing to the same list in memory."
   ]
  },
  {
   "cell_type": "markdown",
   "metadata": {},
   "source": [
    "<font size=3, color=purple><b>Tuples</b></font><br/>\n",
    "<div class=\"alert alert-info\"><li>Tuples are exactly similar to Lists, but they are immutable. <li>Tuples are defined inside parenthesis ().</div>\n"
   ]
  },
  {
   "cell_type": "code",
   "execution_count": 29,
   "metadata": {},
   "outputs": [
    {
     "name": "stdout",
     "output_type": "stream",
     "text": [
      "<class 'tuple'>\n",
      "(1, 5, 8, 2, 5, 2)\n",
      "23\n",
      "2\n",
      "2\n",
      "<class 'list'>\n",
      "[1, 2, 2, 5, 5, 8]\n",
      "[8, 5, 5, 2, 2, 1]\n"
     ]
    },
    {
     "data": {
      "text/plain": [
       "23"
      ]
     },
     "execution_count": 29,
     "metadata": {},
     "output_type": "execute_result"
    }
   ],
   "source": [
    "a=(1,5,8,2,5,2)\n",
    "print(type(a))\n",
    "print(a)\n",
    "print(sum(a)) # sum of a tuple containing integers\n",
    "print(a.count(5)) # returns the number of occurences of element 5\n",
    "print(a.index(8)) # returns the first index position of element 8\n",
    "\n",
    "# functions like reverse, remove and sort will not work since tuples are not mutable in nature.\n",
    "\n",
    "# sorted function can be used to create a sorted list from a given a tuple.\n",
    "b=sorted(a) # sorted in ascending order\n",
    "c=sorted(a,reverse=True) # sorted in descending order\n",
    "print(type(b)) # b is a list\n",
    "print(b)\n",
    "print(c)\n",
    "sum(c) "
   ]
  },
  {
   "cell_type": "markdown",
   "metadata": {},
   "source": [
    "<font size=3, color=purple><b>Zip() and divmod()</b></font><br/>"
   ]
  },
  {
   "cell_type": "code",
   "execution_count": 30,
   "metadata": {},
   "outputs": [
    {
     "name": "stdout",
     "output_type": "stream",
     "text": [
      "2\n",
      "1\n",
      "2\n",
      "1\n",
      "<class 'zip'>\n",
      "[('H', '1'), ('e', '2'), ('l', '3'), ('l', '4'), ('o', '5')]\n",
      "[(1, 'abc'), (2, 'pqr'), (3, 'xyz')]\n",
      "(1, 2, 3) ('abc', 'pqr', 'xyz')\n"
     ]
    }
   ],
   "source": [
    "a=5\n",
    "b=2\n",
    "print(a//b) # Quotient\n",
    "print(a%b) # Remainder\n",
    "\n",
    "# The above operations can also be done using the divmod() that takes two arguments and returns a tuple of two values, quotient and remainder  \n",
    "\n",
    "quot, rem= divmod(a,b)\n",
    "print(quot)\n",
    "print(rem)\n",
    "\n",
    "# zip() contains one element from each sequence\n",
    "x=zip(\"Hello\", \"12345\")\n",
    "print(type(x)) # zip is a class\n",
    "print(list(x)) # result is changed into list\n",
    "\n",
    "y=zip([1,2,3,4],('abc','pqr','xyz'))\n",
    "z=list(y)\n",
    "print(z) # contains three elements (shorter length is considered)\n",
    "\n",
    "# in order to get back the lists, we can unzip the list of tuples using the asterisk\n",
    "a,b=zip(*z)\n",
    "print(a,b)"
   ]
  },
  {
   "cell_type": "markdown",
   "metadata": {},
   "source": [
    "<font size=3, color=purple><b>Objects created explicitly using constructors (int(), str(), list(), float())</b></font><br/>"
   ]
  },
  {
   "cell_type": "code",
   "execution_count": 31,
   "metadata": {},
   "outputs": [
    {
     "name": "stdout",
     "output_type": "stream",
     "text": [
      "4\n",
      "4\n",
      "78\n",
      "1\n",
      "Hey\n",
      "53\n",
      "46.2\n",
      "True\n",
      "3.6\n",
      "21.64\n",
      "435.0\n",
      "1.0\n",
      "True\n",
      "False\n",
      "[3, 6, 'fan']\n",
      "(2, 8, 'test', False)\n",
      "('S', 't', 'r', 'i', 'n', 'g', '1', '2', '3')\n",
      "0\n",
      "0.0\n",
      "\n",
      "[]\n",
      "False\n"
     ]
    }
   ],
   "source": [
    "print(int(4))\n",
    "print(int(4.5)) # type conversion from float to integer\n",
    "print(int('78')) # type conversion from string to integer\n",
    "print(int(True)) # type conversion from boolean to integer\n",
    "\n",
    "print(str('Hey'))\n",
    "print(str(53)) # type conversion from integer to string\n",
    "print(str(46.2)) # type conversion from float to string\n",
    "print(str(True)) # type conversion from boolean to string\n",
    "\n",
    "print(float(3.6))\n",
    "print(float('21.64')) # type conversion from string to float\n",
    "print(float(435)) # type conversion from integer to float\n",
    "print(float(True)) # type conversion from boolean to float\n",
    "\n",
    "print(bool(1))\n",
    "print(bool(0))\n",
    "\n",
    "print(list([3,6,'fan']))\n",
    "print(tuple([2,8,'test', False]))\n",
    "print(tuple('String123'))\n",
    "\n",
    "# Default Values\n",
    "\n",
    "print(int()) # 0\n",
    "print(float()) #0.0\n",
    "print(str()) # '' (blank string)\n",
    "print(list()) # [] (blank list)\n",
    "print(bool()) # False"
   ]
  },
  {
   "cell_type": "markdown",
   "metadata": {},
   "source": [
    "<font size=3, color=purple><b>Importing Libraries</b></font><br/>\n"
   ]
  },
  {
   "cell_type": "code",
   "execution_count": 32,
   "metadata": {},
   "outputs": [
    {
     "name": "stdout",
     "output_type": "stream",
     "text": [
      "4.0\n",
      "3.141592653589793\n",
      "2.718281828459045\n",
      "Help on module math:\n",
      "\n",
      "NAME\n",
      "    math\n",
      "\n",
      "MODULE REFERENCE\n",
      "    https://docs.python.org/3.5/library/math\n",
      "    \n",
      "    The following documentation is automatically generated from the Python\n",
      "    source files.  It may be incomplete, incorrect or include features that\n",
      "    are considered implementation detail and may vary between Python\n",
      "    implementations.  When in doubt, consult the module reference at the\n",
      "    location listed above.\n",
      "\n",
      "DESCRIPTION\n",
      "    This module is always available.  It provides access to the\n",
      "    mathematical functions defined by the C standard.\n",
      "\n",
      "FUNCTIONS\n",
      "    acos(...)\n",
      "        acos(x)\n",
      "        \n",
      "        Return the arc cosine (measured in radians) of x.\n",
      "    \n",
      "    acosh(...)\n",
      "        acosh(x)\n",
      "        \n",
      "        Return the inverse hyperbolic cosine of x.\n",
      "    \n",
      "    asin(...)\n",
      "        asin(x)\n",
      "        \n",
      "        Return the arc sine (measured in radians) of x.\n",
      "    \n",
      "    asinh(...)\n",
      "        asinh(x)\n",
      "        \n",
      "        Return the inverse hyperbolic sine of x.\n",
      "    \n",
      "    atan(...)\n",
      "        atan(x)\n",
      "        \n",
      "        Return the arc tangent (measured in radians) of x.\n",
      "    \n",
      "    atan2(...)\n",
      "        atan2(y, x)\n",
      "        \n",
      "        Return the arc tangent (measured in radians) of y/x.\n",
      "        Unlike atan(y/x), the signs of both x and y are considered.\n",
      "    \n",
      "    atanh(...)\n",
      "        atanh(x)\n",
      "        \n",
      "        Return the inverse hyperbolic tangent of x.\n",
      "    \n",
      "    ceil(...)\n",
      "        ceil(x)\n",
      "        \n",
      "        Return the ceiling of x as an Integral.\n",
      "        This is the smallest integer >= x.\n",
      "    \n",
      "    copysign(...)\n",
      "        copysign(x, y)\n",
      "        \n",
      "        Return a float with the magnitude (absolute value) of x but the sign \n",
      "        of y. On platforms that support signed zeros, copysign(1.0, -0.0) \n",
      "        returns -1.0.\n",
      "    \n",
      "    cos(...)\n",
      "        cos(x)\n",
      "        \n",
      "        Return the cosine of x (measured in radians).\n",
      "    \n",
      "    cosh(...)\n",
      "        cosh(x)\n",
      "        \n",
      "        Return the hyperbolic cosine of x.\n",
      "    \n",
      "    degrees(...)\n",
      "        degrees(x)\n",
      "        \n",
      "        Convert angle x from radians to degrees.\n",
      "    \n",
      "    erf(...)\n",
      "        erf(x)\n",
      "        \n",
      "        Error function at x.\n",
      "    \n",
      "    erfc(...)\n",
      "        erfc(x)\n",
      "        \n",
      "        Complementary error function at x.\n",
      "    \n",
      "    exp(...)\n",
      "        exp(x)\n",
      "        \n",
      "        Return e raised to the power of x.\n",
      "    \n",
      "    expm1(...)\n",
      "        expm1(x)\n",
      "        \n",
      "        Return exp(x)-1.\n",
      "        This function avoids the loss of precision involved in the direct evaluation of exp(x)-1 for small x.\n",
      "    \n",
      "    fabs(...)\n",
      "        fabs(x)\n",
      "        \n",
      "        Return the absolute value of the float x.\n",
      "    \n",
      "    factorial(...)\n",
      "        factorial(x) -> Integral\n",
      "        \n",
      "        Find x!. Raise a ValueError if x is negative or non-integral.\n",
      "    \n",
      "    floor(...)\n",
      "        floor(x)\n",
      "        \n",
      "        Return the floor of x as an Integral.\n",
      "        This is the largest integer <= x.\n",
      "    \n",
      "    fmod(...)\n",
      "        fmod(x, y)\n",
      "        \n",
      "        Return fmod(x, y), according to platform C.  x % y may differ.\n",
      "    \n",
      "    frexp(...)\n",
      "        frexp(x)\n",
      "        \n",
      "        Return the mantissa and exponent of x, as pair (m, e).\n",
      "        m is a float and e is an int, such that x = m * 2.**e.\n",
      "        If x is 0, m and e are both 0.  Else 0.5 <= abs(m) < 1.0.\n",
      "    \n",
      "    fsum(...)\n",
      "        fsum(iterable)\n",
      "        \n",
      "        Return an accurate floating point sum of values in the iterable.\n",
      "        Assumes IEEE-754 floating point arithmetic.\n",
      "    \n",
      "    gamma(...)\n",
      "        gamma(x)\n",
      "        \n",
      "        Gamma function at x.\n",
      "    \n",
      "    gcd(...)\n",
      "        gcd(x, y) -> int\n",
      "        greatest common divisor of x and y\n",
      "    \n",
      "    hypot(...)\n",
      "        hypot(x, y)\n",
      "        \n",
      "        Return the Euclidean distance, sqrt(x*x + y*y).\n",
      "    \n",
      "    isclose(...)\n",
      "        isclose(a, b, *, rel_tol=1e-09, abs_tol=0.0) -> bool\n",
      "        \n",
      "        Determine whether two floating point numbers are close in value.\n",
      "        \n",
      "           rel_tol\n",
      "               maximum difference for being considered \"close\", relative to the\n",
      "               magnitude of the input values\n",
      "            abs_tol\n",
      "               maximum difference for being considered \"close\", regardless of the\n",
      "               magnitude of the input values\n",
      "        \n",
      "        Return True if a is close in value to b, and False otherwise.\n",
      "        \n",
      "        For the values to be considered close, the difference between them\n",
      "        must be smaller than at least one of the tolerances.\n",
      "        \n",
      "        -inf, inf and NaN behave similarly to the IEEE 754 Standard.  That\n",
      "        is, NaN is not close to anything, even itself.  inf and -inf are\n",
      "        only close to themselves.\n",
      "    \n",
      "    isfinite(...)\n",
      "        isfinite(x) -> bool\n",
      "        \n",
      "        Return True if x is neither an infinity nor a NaN, and False otherwise.\n",
      "    \n",
      "    isinf(...)\n",
      "        isinf(x) -> bool\n",
      "        \n",
      "        Return True if x is a positive or negative infinity, and False otherwise.\n",
      "    \n",
      "    isnan(...)\n",
      "        isnan(x) -> bool\n",
      "        \n",
      "        Return True if x is a NaN (not a number), and False otherwise.\n",
      "    \n",
      "    ldexp(...)\n",
      "        ldexp(x, i)\n",
      "        \n",
      "        Return x * (2**i).\n",
      "    \n",
      "    lgamma(...)\n",
      "        lgamma(x)\n",
      "        \n",
      "        Natural logarithm of absolute value of Gamma function at x.\n",
      "    \n",
      "    log(...)\n",
      "        log(x[, base])\n",
      "        \n",
      "        Return the logarithm of x to the given base.\n",
      "        If the base not specified, returns the natural logarithm (base e) of x.\n",
      "    \n",
      "    log10(...)\n",
      "        log10(x)\n",
      "        \n",
      "        Return the base 10 logarithm of x.\n",
      "    \n",
      "    log1p(...)\n",
      "        log1p(x)\n",
      "        \n",
      "        Return the natural logarithm of 1+x (base e).\n",
      "        The result is computed in a way which is accurate for x near zero.\n",
      "    \n",
      "    log2(...)\n",
      "        log2(x)\n",
      "        \n",
      "        Return the base 2 logarithm of x.\n",
      "    \n",
      "    modf(...)\n",
      "        modf(x)\n",
      "        \n",
      "        Return the fractional and integer parts of x.  Both results carry the sign\n",
      "        of x and are floats.\n",
      "    \n",
      "    pow(...)\n",
      "        pow(x, y)\n",
      "        \n",
      "        Return x**y (x to the power of y).\n",
      "    \n",
      "    radians(...)\n",
      "        radians(x)\n",
      "        \n",
      "        Convert angle x from degrees to radians.\n",
      "    \n",
      "    sin(...)\n",
      "        sin(x)\n",
      "        \n",
      "        Return the sine of x (measured in radians).\n",
      "    \n",
      "    sinh(...)\n",
      "        sinh(x)\n",
      "        \n",
      "        Return the hyperbolic sine of x.\n",
      "    \n",
      "    sqrt(...)\n",
      "        sqrt(x)\n",
      "        \n",
      "        Return the square root of x.\n",
      "    \n",
      "    tan(...)\n",
      "        tan(x)\n",
      "        \n",
      "        Return the tangent of x (measured in radians).\n",
      "    \n",
      "    tanh(...)\n",
      "        tanh(x)\n",
      "        \n",
      "        Return the hyperbolic tangent of x.\n",
      "    \n",
      "    trunc(...)\n",
      "        trunc(x:Real) -> Integral\n",
      "        \n",
      "        Truncates x to the nearest Integral toward 0. Uses the __trunc__ magic method.\n",
      "\n",
      "DATA\n",
      "    e = 2.718281828459045\n",
      "    inf = inf\n",
      "    nan = nan\n",
      "    pi = 3.141592653589793\n",
      "\n",
      "FILE\n",
      "    /opt/conda/envs/DSX-Python35/lib/python3.5/lib-dynload/math.cpython-35m-x86_64-linux-gnu.so\n",
      "\n",
      "\n"
     ]
    }
   ],
   "source": [
    "# math library\n",
    "import math as m # math module is a library of mathematical functions and constants. As keyword is used to define alias.\n",
    "print(m.sqrt(16)) # square root\n",
    "print(m.pi) # value of pi\n",
    "print(m.e) # value of e\n",
    "# The help function is used to find more information on math library\n",
    "help(m)"
   ]
  },
  {
   "cell_type": "markdown",
   "metadata": {},
   "source": [
    "<font size=3, color=purple><b>Dictionary</b></font><br/>\n",
    "<div class=\"alert alert-info\"><li>Dictionaries are defined using a Key-Value pair in curly brackets {}. <li>A key-value can be an integer, string, etc.</div>\n"
   ]
  },
  {
   "cell_type": "code",
   "execution_count": 33,
   "metadata": {},
   "outputs": [
    {
     "data": {
      "text/plain": [
       "{}"
      ]
     },
     "execution_count": 33,
     "metadata": {},
     "output_type": "execute_result"
    }
   ],
   "source": [
    "empty_dict={}\n",
    "empty_dict"
   ]
  },
  {
   "cell_type": "code",
   "execution_count": 34,
   "metadata": {},
   "outputs": [
    {
     "name": "stdout",
     "output_type": "stream",
     "text": [
      "{0: 'Zero', 1: 'One', 2: 'Two', 3: 'Three', 4: 'Four', 5: 'Five'}\n"
     ]
    }
   ],
   "source": [
    "a= {\n",
    "    0:\"Zero\",\n",
    "    1:\"One\",\n",
    "    2:\"Two\",\n",
    "    3:\"Three\",\n",
    "    4:\"Four\",\n",
    "    5:\"Five\"\n",
    "}\n",
    "# 0,1,2, etc are the keys. Zero, One, Two are the values.  \n",
    "print(a)"
   ]
  },
  {
   "cell_type": "markdown",
   "metadata": {},
   "source": [
    "<div class=\"alert alert-info\"><li>A key in dictionary can hold multiple datatypes (Boolean, Integer, Float, String, Tuple). Example a<li>A value in dictionary can hold multiple datatypes (List, Tuple, Boolean, Integer, Float, String). Example b</div>\n"
   ]
  },
  {
   "cell_type": "code",
   "execution_count": 35,
   "metadata": {},
   "outputs": [
    {
     "name": "stdout",
     "output_type": "stream",
     "text": [
      "{3.5: 'Float_duplicate', True: 'Boolean', 18: 'Integer', 'Text': 'String', (1, 2, 3): 'Tuple'}\n",
      "{'Age': 34, 'Name': 'Jack', 'Access': False, 'Address': (22, 'ABC', 'XYZ'), 'Mobile': [12345, 95748, '45225'], 'Amount': 76890.56}\n",
      "Jack\n",
      "Boolean\n",
      "dict_keys([True, 18, 3.5, 'New Key', 'Text', (1, 2, 3)])\n",
      "dict_values([34, 'Jack', 'Python', False, (22, 'ABC', 'XYZ'), [12345, 95748, '45225'], 76890.56])\n",
      "dict_items([(True, 'Boolean'), (18, 'Integer'), (3.5, 'Float_duplicate'), ('New Key', 'New Value'), ('Text', 'String'), ((1, 2, 3), 'Tuple')])\n",
      "{'a': 1, 'd': 4, 'c': 3, 'b': 2, 'e': 5}\n"
     ]
    }
   ],
   "source": [
    "a= {\n",
    "    \"Text\":\"String\",\n",
    "    18:\"Integer\",\n",
    "    True:\"Boolean\",\n",
    "    (1,2,3):\"Tuple\",\n",
    "    3.5:\"Float\",\n",
    "    3.5:\"Float_duplicate\" # 3.5 is the duplicate key, the value will be the last defined value\n",
    "}\n",
    "print(a) # Printing order of dictionary is not ordered\n",
    "\n",
    "b={\n",
    "    \"Name\":\"Jack\",\n",
    "    \"Age\":34,\n",
    "    \"Amount\":76890.56,\n",
    "    \"Access\":False,\n",
    "    \"Address\":(22,'ABC','XYZ'),\n",
    "    \"Mobile\":[12345,95748,\"45225\"]\n",
    "}\n",
    "print(b)\n",
    "\n",
    "# Accessing the dictionary elements using keys\n",
    "print(b['Name'])\n",
    "print(a[True])\n",
    "\n",
    "# Adding new Key-Values pairs in dictionary\n",
    "a[\"New Key\"]=\"New Value\"\n",
    "b[\"Software\"]=\"Python\"\n",
    "\n",
    "print(a.keys()) # retrieving the list of keys of Dictionary A\n",
    "print(b.values()) # retrieving the list of values of Dictionary B\n",
    "print(a.items()) # returns the list of all items (tuples) in dictionary A\n",
    "\n",
    "# Converting a tuple into dictionary\n",
    "x=(('a',1),('b',2),('c',3),('d',4),('e',5))\n",
    "y=dict(x)\n",
    "print(y)"
   ]
  },
  {
   "cell_type": "markdown",
   "metadata": {},
   "source": [
    "<font size=3, color=purple><b>Sets</b></font><br/>\n",
    "<div class=\"alert alert-info\"><li>Sets contains unique elements. <li>They are defined by curly brackets {}.<div>"
   ]
  },
  {
   "cell_type": "code",
   "execution_count": 36,
   "metadata": {},
   "outputs": [
    {
     "name": "stdout",
     "output_type": "stream",
     "text": [
      "List s1: {1, 2, 3, 4, 5}\n",
      "List s2: {1, 2, 3, 4, 5} , only unique elements are contained in the set\n",
      "After adding element in List s1: {1, 2, 3, 4, 5, 6}\n",
      "After removing element in List s1: {1, 2, 3, 4, 5}\n",
      "False\n",
      "[1, 2, 3, 4, 5]\n",
      "{1, 2, 3, 4, 5}\n"
     ]
    }
   ],
   "source": [
    "s1={1,2,3,4,5}\n",
    "s2={2,5,1,5,3,2,5,3,4,1,2,4,4,5,2,1,1,3} # elements are repeated\n",
    "print(\"List s1: {}\".format(s1))\n",
    "print(\"List s2: {} , only unique elements are contained in the set\".format(s2))\n",
    "\n",
    "# Adding an element in set using add()\n",
    "s1.add(6)\n",
    "print(\"After adding element in List s1: {}\".format(s1))\n",
    "\n",
    "# Removing an element in set using remove()\n",
    "s1.remove(6)\n",
    "print(\"After removing element in List s1: {}\".format(s1))\n",
    "\n",
    "# Check if element is present in the set\n",
    "print(6 in s1)\n",
    "\n",
    "# Converting a set into list using the list constructor\n",
    "a={3,4,2,4,3,2,4,1,1,1,4,5,3,4,2,2,3}\n",
    "b=list(a)\n",
    "print(b)\n",
    "\n",
    "# Converting a list into set using the set constructor\n",
    "a=[3,4,2,4,3,2,4,1,1,1,4,5,3,4,2,2,3]\n",
    "b=set(a)\n",
    "print(b)"
   ]
  },
  {
   "cell_type": "code",
   "execution_count": 37,
   "metadata": {},
   "outputs": [
    {
     "name": "stdout",
     "output_type": "stream",
     "text": [
      "{1, 2, 3, 4, 5, 6}\n",
      "{3, 4}\n",
      "{1, 2}\n",
      "{5, 6}\n",
      "False\n",
      "True\n",
      "False\n",
      "True\n"
     ]
    }
   ],
   "source": [
    "a={1,2,3,4}\n",
    "b={3,4,5,6}\n",
    "c={5,6}\n",
    "print(a.union(b)) # A union B\n",
    "print(a.intersection(b)) # A intersection B\n",
    "print(a.difference(b)) # A prime\n",
    "print(b.difference(a)) # B prime\n",
    "print(set(a).issuperset(c))\n",
    "print(set(b).issuperset(c))\n",
    "print(set(c).issubset(a))\n",
    "print(set(c).issubset(b))"
   ]
  },
  {
   "cell_type": "markdown",
   "metadata": {},
   "source": [
    "<font size=3, color=purple><b>User_Defined Input</b></font><br/>"
   ]
  },
  {
   "cell_type": "code",
   "execution_count": 38,
   "metadata": {},
   "outputs": [
    {
     "name": "stdout",
     "output_type": "stream",
     "text": [
      "Enter number: 54\n",
      "User entered: 54. It is a string\n",
      "<class 'str'>\n",
      "\n",
      "After conversion, 54 is a integer\n",
      "<class 'int'> \n",
      "\n"
     ]
    }
   ],
   "source": [
    "a=input(\"Enter number: \") # input function is used for inputting through keyboard \n",
    "print(\"User entered: {}. It is a string\".format(a))\n",
    "print(type(a)) # result is of string data type\n",
    "\n",
    "# In order to convert string into number, we can use object constructor int()\n",
    "b=int(a)\n",
    "print(\"\\nAfter conversion, {} is a integer\".format(b))\n",
    "print(type(b),'\\n')"
   ]
  },
  {
   "cell_type": "markdown",
   "metadata": {},
   "source": [
    "<font size=3, color=purple><b>Conditional statements if-else, elif statements</b></font><br/>"
   ]
  },
  {
   "cell_type": "code",
   "execution_count": 39,
   "metadata": {},
   "outputs": [
    {
     "name": "stdout",
     "output_type": "stream",
     "text": [
      "Enter Marks: 75\n",
      "Marks scored: 75\n",
      "Grade A\n"
     ]
    }
   ],
   "source": [
    "# Indentation is critical in order to avoid error\n",
    "\n",
    "marks= int(input(\"Enter Marks: \")) # input() is enclosed inside int() which converts string into integer\n",
    "print(\"Marks scored: {}\".format(marks))\n",
    "if marks>=75: # if statement\n",
    "    print(\"Grade A\" ) \n",
    "elif marks>=60 and marks<75: # else if statement\n",
    "    print(\"Grade B\")\n",
    "else: # else statement\n",
    "    print(\"Grade C\")"
   ]
  },
  {
   "cell_type": "markdown",
   "metadata": {},
   "source": [
    "<font size=3, color=purple><b>Range()</b></font><br/>"
   ]
  },
  {
   "cell_type": "code",
   "execution_count": 40,
   "metadata": {},
   "outputs": [
    {
     "name": "stdout",
     "output_type": "stream",
     "text": [
      "range(0, 5) [0, 1, 2, 3, 4]\n",
      "range(4, 8) [4, 5, 6, 7]\n",
      "range(1, 10, 2) [1, 3, 5, 7, 9]\n"
     ]
    }
   ],
   "source": [
    "# range(n) generates a sequence from 0 to n-1\n",
    "# list() is used to represent the list\n",
    "\n",
    "print(range(5), list(range(5))) \n",
    "print(range(4,8), list(range(4,8))) \n",
    "print(range(1,10,2), list(range(1,10,2))) "
   ]
  },
  {
   "cell_type": "markdown",
   "metadata": {},
   "source": [
    "<font size=3, color=purple><b>For Loop</b></font><br/>"
   ]
  },
  {
   "cell_type": "code",
   "execution_count": 41,
   "metadata": {},
   "outputs": [
    {
     "name": "stdout",
     "output_type": "stream",
     "text": [
      "5\n",
      "2\n",
      "6\n",
      "2\n",
      "5\n",
      "1\n",
      "5\n",
      "\n",
      "\n",
      "Element 0: 5\n",
      "Element 1: 2\n",
      "Element 2: 6\n",
      "Element 3: 2\n",
      "Element 4: 5\n",
      "Element 5: 1\n",
      "Element 6: 5\n",
      "\n",
      "\n",
      "Using enumerate,\n",
      "Element 0: 5\n",
      "Element 1: 2\n",
      "Element 2: 6\n",
      "Element 3: 2\n",
      "Element 4: 5\n",
      "Element 5: 1\n",
      "Element 6: 5\n"
     ]
    }
   ],
   "source": [
    "a=[5,2,6,2,5,1,5] \n",
    "for i in a: # iterates over each element in list\n",
    "    print(i)\n",
    "\n",
    "print(\"\\n\")    \n",
    "    \n",
    "a=[5,2,6,2,5,1,5]\n",
    "for i in range(len(a)): # iterates over each index in list\n",
    "    print(\"Element {}: {}\".format(i,a[i]))    \n",
    "    \n",
    "print(\"\\n\")\n",
    "    \n",
    "a=[5,2,6,2,5,1,5]\n",
    "print(\"Using enumerate,\")\n",
    "for i,k in enumerate(a): # enumerate function can also be used directly on the list\n",
    "    print(\"Element {}: {}\".format(i,k))"
   ]
  },
  {
   "cell_type": "code",
   "execution_count": 42,
   "metadata": {},
   "outputs": [
    {
     "name": "stdout",
     "output_type": "stream",
     "text": [
      "[100, 200, 300, 400, 500]\n",
      "[100, 200, 300, 400, 500]\n"
     ]
    }
   ],
   "source": [
    "# List Comprehension using for loop\n",
    "\n",
    "# Method_1\n",
    "a=[10,20,30,40,50]\n",
    "b=[]\n",
    "for i in a:\n",
    "    b.append((i*10))\n",
    "print(b)\n",
    "\n",
    "# Method_2\n",
    "a=[10,20,30,40,50]\n",
    "b=[i*10 for i in a]\n",
    "print(b)"
   ]
  },
  {
   "cell_type": "markdown",
   "metadata": {},
   "source": [
    "<font size=3, color=purple><b>While loop</b></font><br/>"
   ]
  },
  {
   "cell_type": "code",
   "execution_count": 43,
   "metadata": {},
   "outputs": [
    {
     "name": "stdout",
     "output_type": "stream",
     "text": [
      "Element 0: 5\n",
      "Element 1: 2\n",
      "Element 2: 6\n",
      "Element 3: 2\n",
      "Element 4: 5\n",
      "Element 5: 1\n",
      "Element 6: 5\n"
     ]
    }
   ],
   "source": [
    "a=[5,2,6,2,5,1,5]\n",
    "i=0\n",
    "while i<len(a):\n",
    "    print(\"Element {}: {}\".format(i,a[i]))\n",
    "    i=i+1"
   ]
  },
  {
   "cell_type": "code",
   "execution_count": 44,
   "metadata": {},
   "outputs": [
    {
     "name": "stdout",
     "output_type": "stream",
     "text": [
      "Original list: ['String', 84.1, 'text', 45.32, 23, 'Number', 24, 36.4, 'Some text', 31]\n",
      "\n",
      "After Data cleaning,\n",
      "List with numbers: [84.1, 45.32, 23, 24, 36.4, 31]\n",
      "List with strings: ['String', 'text', 'Number', 'Some text']\n"
     ]
    }
   ],
   "source": [
    "# List Comprehension using while loop\n",
    "# Data cleaning program (list containing numbers and string are filtered)\n",
    "\n",
    "i=0\n",
    "x=[\"String\",84.1, \"text\", 45.32,23,\"Number\",24,36.4,\"Some text\", 31]\n",
    "y=[]\n",
    "l=len(x)\n",
    "print(\"Original list: {}\".format(x))\n",
    "while i < l:\n",
    "    if isinstance(x[i],int) or isinstance(x[i],float):\n",
    "        y.append(x[i])\n",
    "        x.pop(i)\n",
    "        l-=1\n",
    "        i-=1\n",
    "    i=i+1\n",
    "print(\"\\nAfter Data cleaning,\\nList with numbers: {}\".format(y))\n",
    "print(\"List with strings: {}\".format(x))  "
   ]
  },
  {
   "cell_type": "markdown",
   "metadata": {},
   "source": [
    "<font size=3, color=purple><b>Break and continue statements</b></font><br/>"
   ]
  },
  {
   "cell_type": "code",
   "execution_count": 45,
   "metadata": {},
   "outputs": [
    {
     "name": "stdout",
     "output_type": "stream",
     "text": [
      "0\n",
      "1\n",
      "2\n",
      "3\n",
      "5\n",
      "6\n",
      "7\n"
     ]
    }
   ],
   "source": [
    "for i in range(10):\n",
    "    if (i==4): \n",
    "        continue # element 4 is skipped\n",
    "    if(i==8):\n",
    "        break # loop stops as it reaches 8\n",
    "    print(i)"
   ]
  },
  {
   "cell_type": "markdown",
   "metadata": {},
   "source": [
    "<font size=3, color=purple><b>User_Defined Functions</b></font><br/>"
   ]
  },
  {
   "cell_type": "code",
   "execution_count": 46,
   "metadata": {},
   "outputs": [
    {
     "name": "stdout",
     "output_type": "stream",
     "text": [
      "Sum is: 243.82\n",
      "\n",
      "Original list: ['String', 84.1, 'text', 45.32, 23, 'Number', 24, 36.4, 'Some text', 31]\n",
      "\n",
      "After Data cleaning,\n",
      "List with numbers: [84.1, 45.32, 23, 24, 36.4, 31]\n",
      "List with strings: ['String', 'text', 'Number', 'Some text']\n",
      "\n",
      "Help on function data_clean in module __main__:\n",
      "\n",
      "data_clean(x)\n",
      "    List containing numbers and string are filtered\n",
      "\n",
      "Help on function sum_list in module __main__:\n",
      "\n",
      "sum_list(x)\n",
      "    Sum of list elements\n",
      "\n"
     ]
    }
   ],
   "source": [
    "# Functions are defined for code-reusability\n",
    "# Compiling the above code in function\n",
    "\n",
    "a=[\"String\",84.1, \"text\", 45.32,23,\"Number\",24,36.4,\"Some text\", 31] # Global variable\n",
    "\n",
    "def data_clean(x): # function declaration\n",
    "    '''    \n",
    "    List containing numbers and string are filtered \n",
    "    ''' # Documentation of function is enclosed in paragraph\n",
    "    i=0 \n",
    "    y=[] # Local variable \n",
    "    l=len(x)\n",
    "    print(\"Original list: {}\".format(x))\n",
    "    while i < l:\n",
    "        if isinstance(x[i],int) or isinstance(x[i],float):\n",
    "            y.append(x[i])\n",
    "            x.pop(i)\n",
    "            l-=1\n",
    "            i-=1\n",
    "        i=i+1\n",
    "    print(\"\\nAfter Data cleaning,\\nList with numbers: {}\".format(y))\n",
    "    print(\"List with strings: {}\\n\".format(x))\n",
    "    return y # return statement returns the value \n",
    "\n",
    "def sum_list(x):\n",
    "    '''\n",
    "    Sum of list elements \n",
    "    '''\n",
    "    sum=0\n",
    "    for i in x:\n",
    "        if isinstance(i,int) or isinstance(i, float):\n",
    "            sum=sum+i\n",
    "        else: pass # pass statement means do nothing\n",
    "    print(\"Sum is: {}\\n\".format(sum))\n",
    "    return sum\n",
    "\n",
    "# function calling\n",
    "c=sum_list(a)   \n",
    "b=data_clean(a)\n",
    "\n",
    "# On calling the help(), we can see the documentation of the function.\n",
    "help(data_clean)   \n",
    "help(sum_list)"
   ]
  },
  {
   "cell_type": "markdown",
   "metadata": {},
   "source": [
    "<font size=3, color=purple><b>Dates</b></font><br/>"
   ]
  },
  {
   "cell_type": "code",
   "execution_count": 47,
   "metadata": {},
   "outputs": [
    {
     "name": "stdout",
     "output_type": "stream",
     "text": [
      "2018-07-19\n",
      "2018-07-19 11:21:02.401530\n",
      "19/07/18\n",
      "19/07/18 11:21:02 AM\n",
      "7\n"
     ]
    }
   ],
   "source": [
    "# dates in python\n",
    "# Press tab button in Jupyter notebooks to explore various functions in library\n",
    "\n",
    "import datetime as dt\n",
    "current_date=dt.date.today() # today's date\n",
    "print(current_date)\n",
    "\n",
    "current_datetime=dt.datetime.now() # today's date and time\n",
    "print(current_datetime)\n",
    "\n",
    "print(current_date.strftime('%d/%m/%y')) # string format time\n",
    "print(current_datetime.strftime('%d/%m/%y %H:%M:%S %p'))\n",
    "print(current_date.month)"
   ]
  },
  {
   "cell_type": "markdown",
   "metadata": {},
   "source": [
    "<font size=3, color=purple><b>Objects and Classes</b></font><br/>"
   ]
  },
  {
   "cell_type": "code",
   "execution_count": 48,
   "metadata": {},
   "outputs": [
    {
     "data": {
      "text/plain": [
       "['__add__',\n",
       " '__class__',\n",
       " '__contains__',\n",
       " '__delattr__',\n",
       " '__delitem__',\n",
       " '__dir__',\n",
       " '__doc__',\n",
       " '__eq__',\n",
       " '__format__',\n",
       " '__ge__',\n",
       " '__getattribute__',\n",
       " '__getitem__',\n",
       " '__gt__',\n",
       " '__hash__',\n",
       " '__iadd__',\n",
       " '__imul__',\n",
       " '__init__',\n",
       " '__iter__',\n",
       " '__le__',\n",
       " '__len__',\n",
       " '__lt__',\n",
       " '__mul__',\n",
       " '__ne__',\n",
       " '__new__',\n",
       " '__reduce__',\n",
       " '__reduce_ex__',\n",
       " '__repr__',\n",
       " '__reversed__',\n",
       " '__rmul__',\n",
       " '__setattr__',\n",
       " '__setitem__',\n",
       " '__sizeof__',\n",
       " '__str__',\n",
       " '__subclasshook__',\n",
       " 'append',\n",
       " 'clear',\n",
       " 'copy',\n",
       " 'count',\n",
       " 'extend',\n",
       " 'index',\n",
       " 'insert',\n",
       " 'pop',\n",
       " 'remove',\n",
       " 'reverse',\n",
       " 'sort']"
      ]
     },
     "execution_count": 48,
     "metadata": {},
     "output_type": "execute_result"
    }
   ],
   "source": [
    "a=[1,2,3,4,5] \n",
    "dir(a) # returns the list of all Python's objects classes"
   ]
  },
  {
   "cell_type": "markdown",
   "metadata": {},
   "source": [
    "<div class=\"alert alert-info\"><li>**Inheritance**</div>"
   ]
  },
  {
   "cell_type": "code",
   "execution_count": 49,
   "metadata": {},
   "outputs": [
    {
     "name": "stdout",
     "output_type": "stream",
     "text": [
      "male\n",
      "2\n",
      "1\n",
      "2\n",
      "<bound method Human.get_legs of <__main__.man object at 0x7fc590453320>>\n",
      "2\n",
      "female\n",
      "2\n"
     ]
    }
   ],
   "source": [
    "class Human(): # defining class Human\n",
    "    # attributes\n",
    "    legs=2\n",
    "    ears=2\n",
    "    hands=2\n",
    "    eyes=2\n",
    "    # function (callable)\n",
    "    def get_legs(self): # self method is used to refer to the parameters of the instance of a class\n",
    "        return self.legs\n",
    "    @property\n",
    "    def get_ears(self): # property (not a function, hence not callable)\n",
    "        return self.ears\n",
    "    \n",
    "class man(Human): # defining class man, Human is inherited by defining inside parenthesis\n",
    "    gender='male'\n",
    "    \n",
    "class woman(Human): # defining class woman, Human is the parent class\n",
    "    gender='female'\n",
    "    \n",
    "Jon=man() # object created\n",
    "print(Jon.gender)\n",
    "print(Jon.eyes)\n",
    "Jon.hands=1\n",
    "print(Jon.hands)\n",
    "print(Jon.get_legs()) # parenthesis is required when we are calling the function\n",
    "print(Jon.get_legs) # parenthesis is omitted, bound method message appears depicting the function  \n",
    "print(Jon.get_ears) # although parenthesis is omitted, bound method message would not appear as '@property' is defined above the method which makes it a property\n",
    "\n",
    "Jeny=woman()\n",
    "print(Jeny.gender)\n",
    "print(Jeny.hands)"
   ]
  },
  {
   "cell_type": "markdown",
   "metadata": {},
   "source": [
    "<div class=\"alert alert-info\"><li>Special methods: **\\_\\_init\\_\\_** and **\\_\\_str\\_\\_**</div>"
   ]
  },
  {
   "cell_type": "code",
   "execution_count": 50,
   "metadata": {},
   "outputs": [
    {
     "name": "stdout",
     "output_type": "stream",
     "text": [
      "Name is:  James\n",
      "Age is:  24\n",
      "City is:  Dubai\n",
      "Jack\n",
      "Delhi\n",
      "| Jim | 21 | California |\n"
     ]
    }
   ],
   "source": [
    "class Student():\n",
    "    def __init__(self,name, age, city): # __init__ is a special method used to create an instance\n",
    "        # Data Attributes for initializing objects\n",
    "        self.name=name;\n",
    "        self.age=age;\n",
    "        self.city=city;\n",
    "    def details(self):\n",
    "        print(\"Name is: \", self.name)\n",
    "        print(\"Age is: \",  self.age)\n",
    "        print(\"City is: \",self.city)\n",
    "    def __str__(self): # __str__ is a special method used to return a string representation of an object\n",
    "        return \"| %s | %s | %s |\" %(self.name,self.age,self.city)\n",
    "        \n",
    "a=Student(\"James\",24,\"Dubai\")\n",
    "b=Student(\"Jack\",23,\"New York\")\n",
    "c=Student(\"Julia\",24,\"Delhi\")\n",
    "d=Student(\"Jim\",21,\"California\")\n",
    "a.details()\n",
    "print(b.name)\n",
    "print(c.city)\n",
    "print(d)"
   ]
  },
  {
   "cell_type": "markdown",
   "metadata": {},
   "source": [
    "<font size=3, color=purple><b>Generating Random Numbers</b></font><br/>"
   ]
  },
  {
   "cell_type": "code",
   "execution_count": 51,
   "metadata": {},
   "outputs": [
    {
     "name": "stdout",
     "output_type": "stream",
     "text": [
      "0.5693973635888941\n",
      "0.2509635185369401\n",
      "0.49331325400464143\n",
      "8\n",
      "34\n",
      "\n",
      " !\"#$%&'()*+,-./:;<=>?@[\\]^_`{|}~\n",
      "\n",
      " [1, 2, 3, 4, 5] [1, 2, 3, 4, 5] [1, 2, 3, 4, 5]\n",
      "False\n",
      "True\n",
      "False\n",
      "True\n",
      "True\n"
     ]
    }
   ],
   "source": [
    "import random as rd\n",
    "for i in range(3):\n",
    "    a=rd.random() # random() generates random numbers between 0.0 and 1.0 (including 0.0 but excluding 1.0)\n",
    "    print(a)\n",
    "b=rd.randint(1,10) # randint(low,high) returns an integer number between low and high value (including both)\n",
    "print(b)\n",
    "c=[2,5,73,7,34,234,67,2354,62,22,67,82,5]\n",
    "d=rd.choice(c) # choice(sequence) returns a random number from the sequence\n",
    "print(d)\n",
    "\n",
    "# Generating punctuations\n",
    "\n",
    "import string as st\n",
    "print(\"\\n\",st.punctuation) # explore other options using tab button\n",
    "\n",
    "# copy library\n",
    "\n",
    "import copy as cp\n",
    "a=[1,2,3,4,5]\n",
    "b=cp.copy(a) # copy() duplicates the object\n",
    "c=a\n",
    "print(\"\\n\",a,b,c)\n",
    "print(b is a) # both refers to the different object\n",
    "print(c is a) # both refers to the same object\n",
    "print(c is b) # both refers to the different object\n",
    "print(a==b)\n",
    "print(c==b)"
   ]
  },
  {
   "cell_type": "markdown",
   "metadata": {},
   "source": [
    "<div class=\"alert alert-info\"><li>Defining **Histogram** using dictionary</div>"
   ]
  },
  {
   "cell_type": "code",
   "execution_count": 52,
   "metadata": {},
   "outputs": [
    {
     "name": "stdout",
     "output_type": "stream",
     "text": [
      "{'T': 1, ' ': 5, 'l': 1, 'p': 1, 'a': 2, 'r': 1, 'x': 1, 'n': 1, 'm': 1, 'e': 2, 'i': 3, 's': 4, 'h': 1, 't': 3, 'g': 1}\n",
      "{0: 13, 1: 8, 2: 9, 3: 5, 4: 9, 5: 10, 6: 16, 7: 6, 8: 14, 9: 10}\n",
      "No. of times 'i' is present in b: 3\n",
      "No. of times 's' is present in b: 4\n",
      "No. of times 3 is present in c: 5\n",
      "No. of times 7 is present in c: 6\n"
     ]
    }
   ],
   "source": [
    "def histogram(x):\n",
    "    a=dict()\n",
    "    for i in x:\n",
    "        if i not in a:\n",
    "            a[i]=1\n",
    "        else:\n",
    "            a[i]+=1\n",
    "    return a\n",
    "\n",
    "# Example_1\n",
    "b=histogram('This is a sample text string')\n",
    "print(b)\n",
    "\n",
    "# Example_2\n",
    "import random as rd\n",
    "l=[]\n",
    "for i in range(100):\n",
    "    k=rd.randint(0,9)\n",
    "    l.append(k)\n",
    "c=histogram(l)\n",
    "print(c)\n",
    "\n",
    "# in order to fetch a particular frequency of an individual element, we can use a get()\n",
    "print(\"No. of times 'i' is present in b: %d\" %(b.get('i')))\n",
    "print(\"No. of times 's' is present in b: %d\" %(b.get('s')))\n",
    "print(\"No. of times 3 is present in c: %d\" %(c.get(3)))\n",
    "print(\"No. of times 7 is present in c: %d\" %(c.get(7)))"
   ]
  },
  {
   "cell_type": "markdown",
   "metadata": {},
   "source": [
    "<font size=3, color=purple><b>Lambda Statement</b></font><br/>"
   ]
  },
  {
   "cell_type": "code",
   "execution_count": 53,
   "metadata": {},
   "outputs": [
    {
     "name": "stdout",
     "output_type": "stream",
     "text": [
      "61.0\n",
      "61.0\n",
      "['This', 'is', 'a', 'sample', 'text']\n",
      "This is a sample text\n",
      "This | is | a | sample | text\n",
      "This is a sample text\n"
     ]
    }
   ],
   "source": [
    "# Lambda functions are defined when the functions are used very less\n",
    "\n",
    "# Example 1\n",
    "a=[1,2,3,4,5]\n",
    "def expr(x): # some function for calculation\n",
    "    return ((x**x+x)/x)-x # some expression\n",
    "print(expr(4))\n",
    "\n",
    "# the above function can be illustrated using lambda function\n",
    "a=lambda x:((x**x+x)/x)-x\n",
    "print(a(4))\n",
    "\n",
    "# Example 2\n",
    "b=\"This is a sample text\"\n",
    "c=b.split()\n",
    "print(c)\n",
    "d=' ' # empty string with space\n",
    "print(d.join(c)) # join() is used to join a list of strings using the string d in between its elements (works opposite to the split())\n",
    "e=' | '\n",
    "print(e.join(c))\n",
    "\n",
    "# using lambda \n",
    "x=lambda a:' '.join(a)\n",
    "print(x(c))"
   ]
  },
  {
   "cell_type": "markdown",
   "metadata": {},
   "source": [
    "<font size=3, color=purple><b>Maps and filters</b></font><br/>"
   ]
  },
  {
   "cell_type": "code",
   "execution_count": 54,
   "metadata": {},
   "outputs": [
    {
     "name": "stdout",
     "output_type": "stream",
     "text": [
      "[3, 4, 5, 6, 7, 8, 9, 10, 11]\n",
      "[3, 4, 5, 6, 7, 8, 9, 10, 11]\n",
      "[3, 6, 9]\n",
      "[3, 6, 9]\n"
     ]
    }
   ],
   "source": [
    "a=[1,2,3,4,5,6,7,8,9]\n",
    "def add_two(x): # function that adds 2 to each element \n",
    "    x=x+2\n",
    "    return x\n",
    "print(list(map(add_two,a))) # map() is used to apply the function on the specified sequence\n",
    "\n",
    "\n",
    "# lambda function is mostly integrated in these cases in order to reduce the complexity of the program \n",
    "c=list(map(lambda x:x+2, a))\n",
    "print(c)\n",
    "\n",
    "\n",
    "def div_3(x):\n",
    "    if(x%3==0):\n",
    "        return x\n",
    "print(list(filter(div_3,a))) # filter() is used to filter the elements by applying the function on the particular sequence\n",
    "\n",
    "# using lambda function\n",
    "print(list(filter(lambda x: x%3==0,a)))"
   ]
  },
  {
   "cell_type": "code",
   "execution_count": 73,
   "metadata": {},
   "outputs": [
    {
     "name": "stdout",
     "output_type": "stream",
     "text": [
      "Writing and Reading text files:\n",
      " This is a sample test line\n",
      "This is a next line. Continuing last line. \n",
      "\n",
      "Appending text in an existing file:\n",
      " ['This is a sample test line\\n', 'This is a next line. Continuing last line. This is the appended text.'] \n",
      "\n",
      "Copying from one file into another file:\n",
      " This is a sample test line\n",
      "\n",
      "Reading partial characters: This is a next line. Co\n",
      "\n",
      "Name of the file: Test2.txt\n",
      "Mode of the file: r\n"
     ]
    }
   ],
   "source": [
    "# Reading and Writing files \n",
    "\n",
    "# Creating file Test1.txt\n",
    "with open('Test1.txt','w') as wf: # w represents writing mode, wf is the alias name \n",
    "    wf.write(\"This is a sample test line\") # write() is used to write text on file\n",
    "    wf.write(\"\\nThis is a next line. \")\n",
    "    wf.write(\"Continuing last line.\")\n",
    "    \n",
    "with open('Test1.txt','r') as twf: # r represents reading mode\n",
    "    print('Writing and Reading text files:\\n',twf.read(),'\\n') # read() is used to read text on file\n",
    "\n",
    "with open('Test1.txt','a') as twf: # a represents appending in the existing file\n",
    "    twf.write(\" This is the appended text.\")\n",
    "    \n",
    "with open('Test1.txt','r') as twf: \n",
    "    print(\"Appending text in an existing file:\\n\",twf.readlines(),'\\n') # readlines() is used to read text on file and returns a list of lines\n",
    "    \n",
    "# copying from one file into another    \n",
    "with open('Test1.txt','r') as rf:\n",
    "    with open('Test2.txt','w') as wf:\n",
    "          for line in rf:\n",
    "                wf.write(line)\n",
    "                \n",
    "with open('Test2.txt','r') as twf: \n",
    "    print(\"Copying from one file into another file:\\n\",twf.readline()) #  readline() is used to read the first line\n",
    "    print(\"Reading partial characters:\",twf.read(23)) # reading next 23 characters from the last reading position\n",
    "    \n",
    "print(\"\\nName of the file:\",twf.name) # fetching the name of file\n",
    "print(\"Mode of the file:\",twf.mode) # fetching the mode of file\n",
    "twf.close() # closing file"
   ]
  },
  {
   "cell_type": "code",
   "execution_count": 74,
   "metadata": {},
   "outputs": [
    {
     "name": "stdout",
     "output_type": "stream",
     "text": [
      "Error! Division by Zero is not possible\n",
      "Error! Text cannot be converted into Float datatype\n",
      "Error! String and Integer cannot be added\n"
     ]
    }
   ],
   "source": [
    "# Errors are catched using try & except blocks\n",
    "\n",
    "# Scenario 1:\n",
    "try:\n",
    "    b=34/0\n",
    "except:\n",
    "    print('Error! Division by Zero is not possible')\n",
    "    \n",
    "# Scenario 2:\n",
    "try:\n",
    "    float(\"Text\")\n",
    "except:\n",
    "    print('Error! Text cannot be converted into Float datatype')\n",
    "\n",
    "# Scenario 3:\n",
    "try:\n",
    "    'Text'+32\n",
    "except:\n",
    "    print('Error! String and Integer cannot be added')"
   ]
  },
  {
   "cell_type": "markdown",
   "metadata": {},
   "source": [
    "**Regular Expressions** are generic expressions that are used to match patterns in strings and text. A way we can exemplify this is with a simple expression that can match with an email string. But before we write it, let's look at how an email is structured:\n",
    "\n",
    "<h1 align=center><font size = 3>test@testing.com</font></h1>\n",
    "\n",
    "So, an email is composed by a string followed by an '@' symbol followed by another string. In Python regular expressions, we can express this as:\n",
    "\n",
    "<h1 align=center><font size = 3>.+@.+</font></h1>\n",
    "\n",
    "Where:\n",
    "* The '.' symbol matches with any character.\n",
    "* The '+' symbol repeats the previous symbol one or more times. So, '.+' will match with any string with one or more characters.\n",
    "* The '@' symbol only matches with the '@' character.\n",
    "\n",
    "Now, for our problem, which is extracting the domain from an email excluding the regional url code, we need an expression that specifically matches with what we want:\n",
    "\n",
    "<h1 align=center><font size = 3>@.+\\\\.</font></h1>\n",
    "\n",
    "Where the '\\\\.' symbol specifically matches with the '.' character."
   ]
  },
  {
   "cell_type": "code",
   "execution_count": 75,
   "metadata": {},
   "outputs": [
    {
     "name": "stdout",
     "output_type": "stream",
     "text": [
      "doej@example.com's domain is example\n",
      " jadoe@sample.ca's domain is sample\n",
      " qsus@example.br's domain is example\n",
      " joes@sample.com's domain is sample\n"
     ]
    }
   ],
   "source": [
    "'''To go over **Regular Expressions**, we’ll be using this simple string of email addresses with different domains and regions.\\\n",
    "So, let’s say we want to specifically perform data analysis on the domains contained in each email address. \\\n",
    "But, even addresses with the same domain can possess different URLs due to regional differences. \\\n",
    "So we simply need to extract everything between the ‘@’ and the ‘.’ symbol. \\\n",
    "But how can we do that since domain names have variable lengths and might even possess strange characters within them?'''\n",
    "\n",
    "emails=['doej@example.com',\n",
    " ' jadoe@sample.ca',\n",
    " ' qsus@example.br',\n",
    " ' joes@sample.com']\n",
    "\n",
    "import re\n",
    "\n",
    "pattern = r'.+@(.+)\\.' # the parentheses here specify a group. \n",
    "                        # we can access the content matched in this group using .group(1) (see below)\n",
    "regex = re.compile(pattern)\n",
    "\n",
    "for email in emails:\n",
    "    result = regex.match(email)\n",
    "    print (email + '\\'s domain is ' + result.group(1))"
   ]
  }
 ],
 "metadata": {
  "kernelspec": {
   "display_name": "Python 3",
   "language": "python",
   "name": "python3"
  },
  "language_info": {
   "codemirror_mode": {
    "name": "ipython",
    "version": 3
   },
   "file_extension": ".py",
   "mimetype": "text/x-python",
   "name": "python",
   "nbconvert_exporter": "python",
   "pygments_lexer": "ipython3",
   "version": "3.6.5"
  }
 },
 "nbformat": 4,
 "nbformat_minor": 2
}
